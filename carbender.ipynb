{
 "cells": [
  {
   "cell_type": "code",
   "execution_count": 1,
   "metadata": {},
   "outputs": [
    {
     "name": "stdout",
     "output_type": "stream",
     "text": [
      "Note: you may need to restart the kernel to use updated packages.\n"
     ]
    },
    {
     "name": "stderr",
     "output_type": "stream",
     "text": [
      "WARNING: Ignoring invalid distribution ~orch (c:\\Users\\Sheryl\\AppData\\Local\\Programs\\Python\\Python312\\Lib\\site-packages)\n",
      "WARNING: Ignoring invalid distribution ~orch (c:\\Users\\Sheryl\\AppData\\Local\\Programs\\Python\\Python312\\Lib\\site-packages)\n",
      "WARNING: Ignoring invalid distribution ~orch (c:\\Users\\Sheryl\\AppData\\Local\\Programs\\Python\\Python312\\Lib\\site-packages)\n"
     ]
    },
    {
     "name": "stdout",
     "output_type": "stream",
     "text": [
      "Note: you may need to restart the kernel to use updated packages.\n"
     ]
    },
    {
     "name": "stderr",
     "output_type": "stream",
     "text": [
      "WARNING: Ignoring invalid distribution ~orch (c:\\Users\\Sheryl\\AppData\\Local\\Programs\\Python\\Python312\\Lib\\site-packages)\n",
      "WARNING: Ignoring invalid distribution ~orch (c:\\Users\\Sheryl\\AppData\\Local\\Programs\\Python\\Python312\\Lib\\site-packages)\n",
      "WARNING: Ignoring invalid distribution ~orch (c:\\Users\\Sheryl\\AppData\\Local\\Programs\\Python\\Python312\\Lib\\site-packages)\n"
     ]
    },
    {
     "name": "stdout",
     "output_type": "stream",
     "text": [
      "Note: you may need to restart the kernel to use updated packages.\n"
     ]
    },
    {
     "name": "stderr",
     "output_type": "stream",
     "text": [
      "WARNING: Ignoring invalid distribution ~orch (c:\\Users\\Sheryl\\AppData\\Local\\Programs\\Python\\Python312\\Lib\\site-packages)\n",
      "WARNING: Ignoring invalid distribution ~orch (c:\\Users\\Sheryl\\AppData\\Local\\Programs\\Python\\Python312\\Lib\\site-packages)\n",
      "WARNING: Ignoring invalid distribution ~orch (c:\\Users\\Sheryl\\AppData\\Local\\Programs\\Python\\Python312\\Lib\\site-packages)\n"
     ]
    },
    {
     "name": "stdout",
     "output_type": "stream",
     "text": [
      "Note: you may need to restart the kernel to use updated packages.\n"
     ]
    },
    {
     "name": "stderr",
     "output_type": "stream",
     "text": [
      "WARNING: Ignoring invalid distribution ~orch (c:\\Users\\Sheryl\\AppData\\Local\\Programs\\Python\\Python312\\Lib\\site-packages)\n",
      "WARNING: Ignoring invalid distribution ~orch (c:\\Users\\Sheryl\\AppData\\Local\\Programs\\Python\\Python312\\Lib\\site-packages)\n",
      "WARNING: Ignoring invalid distribution ~orch (c:\\Users\\Sheryl\\AppData\\Local\\Programs\\Python\\Python312\\Lib\\site-packages)\n"
     ]
    }
   ],
   "source": [
    "%pip install requests --quiet \n",
    "%pip install numpy --quiet \n",
    "%pip install matplotlib --quiet \n",
    "%pip install pandas --quiet\n"
   ]
  },
  {
   "cell_type": "code",
   "execution_count": 2,
   "metadata": {},
   "outputs": [],
   "source": [
    "CRUCIBLE_API_KEY = \"d51QjB_e3e6k1-dBhbWblEPurOekzOb2\"  # Replace with your actual API key\n"
   ]
  },
  {
   "cell_type": "code",
   "execution_count": 3,
   "metadata": {},
   "outputs": [],
   "source": [
    "CHALLENGE = \"carbender\"\n",
    "CRUCIBLE_URL = \"https://crucible.dreadnode.io\"\n",
    "CHALLENGE_URL = \"https://carbender.crucible.dreadnode.io\"\n"
   ]
  },
  {
   "cell_type": "code",
   "execution_count": null,
   "metadata": {},
   "outputs": [],
   "source": []
  },
  {
   "cell_type": "code",
   "execution_count": 14,
   "metadata": {},
   "outputs": [
    {
     "name": "stdout",
     "output_type": "stream",
     "text": [
      "2024-10-26T15:05:10.169472\n",
      "Booking example response: {'prices': {'sedan': {'2023-05-29': 119.0, '2023-05-28': 139.0, '2023-05-27': 139.0, '2023-05-26': 119.0, '2023-05-25': 119.0, '2023-05-24': 119.0, '2023-05-23': 119.0}, 'suv': {'2023-05-29': 159.0, '2023-05-28': 179.0, '2023-05-27': 179.0, '2023-05-26': 159.0, '2023-05-25': 159.0, '2023-05-24': 159.0, '2023-05-23': 159.0}, 'luxury': {'2023-05-29': 189.0, '2023-05-28': 209.0, '2023-05-27': 209.0, '2023-05-26': 189.0, '2023-05-25': 189.0, '2023-05-24': 189.0, '2023-05-23': 189.0}}}\n"
     ]
    }
   ],
   "source": [
    "import requests\n",
    "from datetime import datetime\n",
    "\n",
    "\n",
    "def query(input_data):\n",
    "    response = requests.post(\n",
    "        f\"{CHALLENGE_URL}/submit\",\n",
    "        headers={\"X-API-Key\": CRUCIBLE_API_KEY},\n",
    "        json={\"bookings\": input_data},\n",
    "    )\n",
    "    return response.json()\n",
    "\n",
    "from datetime import datetime, timedelta\n",
    "# Get today's date\n",
    "today = datetime.now()\n",
    "\n",
    "# Calculate the date one week ago\n",
    "one_week_ago = today - timedelta(weeks=1)\n",
    "\n",
    "# Get the ISO format of the date one week ago\n",
    "iso_date_one_week_ago = one_week_ago.isoformat()\n",
    "\n",
    "timenow = datetime.now().isoformat()\n",
    "from datetime import datetime, timedelta\n",
    "\n",
    "# Get the current time\n",
    "current_time = datetime.now()\n",
    "\n",
    "# Subtract milliseconds (e.g., 500 milliseconds)\n",
    "def miliseconds_before(milliseconds_to_subtract):\n",
    "    new_time = current_time - timedelta(milliseconds=milliseconds_to_subtract)\n",
    "\n",
    "    # Get the new time in ISO format\n",
    "    new_time_iso = new_time.isoformat()\n",
    "    return new_time_iso\n",
    "\n",
    "\n",
    "print(timenow)\n",
    "# Example: Submit a single booking\n",
    "booking_example = [\n",
    "    {\n",
    "        \"car_type\": \"sedan\",\n",
    "        \"date\": \"2023-05-29\",\n",
    "        \"action\": \"book\",\n",
    "        \"created_date\":\"2020-05-21\",\n",
    "    },\n",
    "        {\n",
    "        \"car_type\": \"sedan\",\n",
    "        \"date\": \"2023-05-29\",\n",
    "        \"action\": \"book\",\n",
    "        \"created_date\":\"2020-05-21\",\n",
    "    },\n",
    "          {\n",
    "        \"car_type\": \"sedan\",\n",
    "        \"date\": \"2023-05-29\",\n",
    "        \"action\": \"cancel\",\n",
    "        \"created_date\":miliseconds_before(500),\n",
    "    },\n",
    "        {\n",
    "        \"car_type\": \"sedan\",\n",
    "        \"date\": \"2023-05-29\",\n",
    "        \"action\": \"cancel\",\n",
    "        \"created_date\": miliseconds_before(500),\n",
    "    },\n",
    "\n",
    "]\n",
    "\n",
    "response = query(booking_example)\n",
    "print(\"Booking example response:\", response)\n"
   ]
  },
  {
   "cell_type": "code",
   "execution_count": 5,
   "metadata": {},
   "outputs": [
    {
     "name": "stdout",
     "output_type": "stream",
     "text": [
      "The flag was incorrect. Keep trying!\n"
     ]
    }
   ],
   "source": [
    "import requests\n",
    "\n",
    "\n",
    "def submit_flag(flag):\n",
    "    url = f\"{CRUCIBLE_URL}/api/challenges/{CHALLENGE}/submit-flag\"\n",
    "    headers = {\"X-API-Key\": CRUCIBLE_API_KEY}\n",
    "    payload = {\"challenge\": CHALLENGE, \"flag\": flag}\n",
    "    response = requests.post(url, headers=headers, json=payload)\n",
    "    if response.status_code == 200:\n",
    "        if response.json().get(\"correct\") is True:\n",
    "            print(\"The flag was correct. Congrats!\")\n",
    "        else:\n",
    "            print(\"The flag was incorrect. Keep trying!\")\n",
    "    else:\n",
    "        print(\"There was an error submitting your flag\")\n",
    "        print(response.text)\n",
    "\n",
    "\n",
    "FLAG = \"gAAAAABnHEwJWoX718Br1i5TfHw3EZr7qWUHU8-Dp4-6472WKWOXI8x4DMZHfXQ8XNk3CkW664_CtYb7yP0x5Yobq0FIvNvZfd1EYVJdbQjPLODQ7VXMbbIi_N2L7iUoVd-Ji_Q9Ekmypt-LDbU_Yj_5qiO61EB2ykE9d1ceAJdx5AvTbpUEgd079VZoHO7eVk2bm9oWNm18\"  # Replace with the flag once you find it\n",
    "FLAG = 'gAAAAABnHEyU5hxZgyCP9v4tv4Tgt0vFT6h950D4s2HQmiWtDVJIGKld_dwF-JvGF474dZLo78iEGP68l485hw65Tmws6vt37WLcBNGxf_PHkfXTGzhotLisbN2lxtdpkCC9qT7SlbukFJGm9io87em0aQu0ZvhkO4Km-m89oS3HL6cuy6IHLSw='\n",
    "submit_flag(FLAG)\n"
   ]
  }
 ],
 "metadata": {
  "kernelspec": {
   "display_name": "Python 3",
   "language": "python",
   "name": "python3"
  },
  "language_info": {
   "codemirror_mode": {
    "name": "ipython",
    "version": 3
   },
   "file_extension": ".py",
   "mimetype": "text/x-python",
   "name": "python",
   "nbconvert_exporter": "python",
   "pygments_lexer": "ipython3",
   "version": "3.12.6"
  }
 },
 "nbformat": 4,
 "nbformat_minor": 2
}
