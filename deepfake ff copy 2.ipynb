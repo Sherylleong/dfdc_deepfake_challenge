{
 "cells": [
  {
   "cell_type": "code",
   "execution_count": null,
   "metadata": {},
   "outputs": [
    {
     "name": "stderr",
     "output_type": "stream",
     "text": [
      "c:\\Users\\Sheryl\\AppData\\Local\\Programs\\Python\\Python312\\Lib\\site-packages\\albumentations\\__init__.py:13: UserWarning: A new version of Albumentations is available: 1.4.20 (you have 1.4.17). Upgrade using: pip install -U albumentations. To disable automatic update checks, set the environment variable NO_ALBUMENTATIONS_UPDATE to 1.\n",
      "  check_for_updates()\n"
     ]
    }
   ],
   "source": [
    "import os\n",
    "import zipfile\n",
    "import numpy as np\n",
    "import pandas as pd\n",
    "import matplotlib\n",
    "import torch\n",
    "import matplotlib.pyplot as plt\n",
    "import cv2 as cv\n",
    "#from skimage.measure import compare_ssim\n",
    "from torchvision.datasets import ImageFolder\n",
    "import glob\n",
    "import time\n",
    "from PIL import Image\n",
    "from facenet_pytorch import MTCNN, InceptionResnetV1, extract_face\n",
    "from tqdm import tqdm\n",
    "from efficientnet_pytorch import EfficientNet\n",
    "import math\n",
    "import pickle\n",
    "from functools import partial\n",
    "from collections import defaultdict\n",
    "\n",
    "from PIL import Image\n",
    "from glob import glob\n",
    "from torchvision.models import efficientnet_b0, EfficientNet_B0_Weights\n",
    "import cv2\n",
    "import skimage.measure\n",
    "import albumentations as A\n",
    "from tqdm.notebook import tqdm \n",
    "#from albumentations.pytorch import ToTensor \n",
    "from torch.utils.data import Dataset\n",
    "from torch.utils.data import DataLoader\n",
    "import torch\n",
    "import torch.nn as nn\n",
    "import torch.nn.functional as F\n",
    "from torch.autograd import Variable\n",
    "from torchvision.models.video import mc3_18, r2plus1d_18\n",
    "\n",
    "from facenet_pytorch import MTCNN\n",
    "\n",
    "\n",
    "\n",
    "import sys\n",
    "import sklearn\n",
    "\n",
    "import cv2\n",
    "import pandas as pd\n",
    "import numpy as np\n",
    "\n",
    "import plotly.graph_objs as go\n",
    "from plotly.offline import iplot\n",
    "from matplotlib import pyplot as plt\n",
    "from torchvision import models, transforms\n",
    "from torch.utils.data import WeightedRandomSampler\n",
    "\n",
    "import matplotlib.pyplot as plt\n",
    "\n",
    "plt.rc('font', size=14)\n",
    "plt.rc('axes', labelsize=14, titlesize=14)\n",
    "plt.rc('legend', fontsize=14)\n",
    "plt.rc('xtick', labelsize=10)\n",
    "plt.rc('ytick', labelsize=10)\n",
    "\n",
    "from torchsummary import summary\n",
    "device = 'cuda' \n",
    "\n",
    "DATA_FOLDER = os.getcwd()\n",
    "\n",
    "BASE_PATH = os.getcwd()\n",
    "\n",
    "ORI_CROPS = r'D:\\FF\\crops\\original_sequences'\n",
    "MANIP_CROPS = r'D:\\FF\\crops\\manipulated_sequences'\n",
    "CROPS_FOLDER = r'D:\\FF\\crops'\n",
    "IMG_SIZE = 224\n",
    "BATCH_SIZE = 64\n",
    "EPOCHS = 10"
   ]
  },
  {
   "cell_type": "code",
   "execution_count": 2,
   "metadata": {},
   "outputs": [],
   "source": [
    "from glob import glob\n",
    "import json\n",
    "def get_videos_from_folder(folder_path):\n",
    "    # List all files in the specified folder\n",
    "    files = [f for f in os.listdir(folder_path) if os.path.isfile(os.path.join(folder_path, f))]\n",
    "    if 'metadata.json' in files:\n",
    "        files.remove('metadata.json')\n",
    "    full_paths = [os.path.join(folder_path, f) for f in files]\n",
    "    return full_paths\n",
    "\n",
    "def get_videos_basenames_from_folder(folder_path):\n",
    "    # List all files in the specified folder\n",
    "    files = [f for f in os.listdir(folder_path) if os.path.isfile(os.path.join(folder_path, f))]\n",
    "    if 'metadata.json' in files:\n",
    "        files.remove('metadata.json')\n",
    "    return files\n",
    "\n",
    "def get_original_with_fakes(root_dir):\n",
    "    pairs = []\n",
    "    for json_path in glob(os.path.join(root_dir, \"*/metadata.json\")):\n",
    "        with open(json_path, \"r\") as f:\n",
    "            metadata = json.load(f)\n",
    "        for k, v in metadata.items():\n",
    "            original = v.get(\"original\", None)\n",
    "            if v[\"label\"] == \"FAKE\":\n",
    "                pairs.append((original[:-4], k[:-4] ))\n",
    "\n",
    "    return pairs\n",
    "\n",
    "\n",
    "#metadata['aaqaifqrwn.mp4']['label']\n",
    "\n",
    "def sample_weights(metadata):\n",
    "    video_fake_real_labels = metadata.iloc[0]\n",
    "    class_counts = video_fake_real_labels.value_counts()\n",
    "    class_weights = 1 / class_counts\n",
    "    return [1/class_counts[i] for i in video_fake_real_labels] # for undersampling"
   ]
  },
  {
   "cell_type": "code",
   "execution_count": 5,
   "metadata": {},
   "outputs": [
    {
     "name": "stderr",
     "output_type": "stream",
     "text": [
      "c:\\Users\\Sheryl\\AppData\\Local\\Programs\\Python\\Python312\\Lib\\site-packages\\facenet_pytorch\\models\\mtcnn.py:34: FutureWarning:\n",
      "\n",
      "You are using `torch.load` with `weights_only=False` (the current default value), which uses the default pickle module implicitly. It is possible to construct malicious pickle data which will execute arbitrary code during unpickling (See https://github.com/pytorch/pytorch/blob/main/SECURITY.md#untrusted-models for more details). In a future release, the default value for `weights_only` will be flipped to `True`. This limits the functions that could be executed during unpickling. Arbitrary objects will no longer be allowed to be loaded via this mode unless they are explicitly allowlisted by the user via `torch.serialization.add_safe_globals`. We recommend you start setting `weights_only=True` for any use case where you don't have full control of the loaded file. Please open an issue on GitHub for any issues related to this experimental feature.\n",
      "\n",
      "c:\\Users\\Sheryl\\AppData\\Local\\Programs\\Python\\Python312\\Lib\\site-packages\\facenet_pytorch\\models\\mtcnn.py:79: FutureWarning:\n",
      "\n",
      "You are using `torch.load` with `weights_only=False` (the current default value), which uses the default pickle module implicitly. It is possible to construct malicious pickle data which will execute arbitrary code during unpickling (See https://github.com/pytorch/pytorch/blob/main/SECURITY.md#untrusted-models for more details). In a future release, the default value for `weights_only` will be flipped to `True`. This limits the functions that could be executed during unpickling. Arbitrary objects will no longer be allowed to be loaded via this mode unless they are explicitly allowlisted by the user via `torch.serialization.add_safe_globals`. We recommend you start setting `weights_only=True` for any use case where you don't have full control of the loaded file. Please open an issue on GitHub for any issues related to this experimental feature.\n",
      "\n",
      "c:\\Users\\Sheryl\\AppData\\Local\\Programs\\Python\\Python312\\Lib\\site-packages\\facenet_pytorch\\models\\mtcnn.py:132: FutureWarning:\n",
      "\n",
      "You are using `torch.load` with `weights_only=False` (the current default value), which uses the default pickle module implicitly. It is possible to construct malicious pickle data which will execute arbitrary code during unpickling (See https://github.com/pytorch/pytorch/blob/main/SECURITY.md#untrusted-models for more details). In a future release, the default value for `weights_only` will be flipped to `True`. This limits the functions that could be executed during unpickling. Arbitrary objects will no longer be allowed to be loaded via this mode unless they are explicitly allowlisted by the user via `torch.serialization.add_safe_globals`. We recommend you start setting `weights_only=True` for any use case where you don't have full control of the loaded file. Please open an issue on GitHub for any issues related to this experimental feature.\n",
      "\n"
     ]
    }
   ],
   "source": [
    "frames_per_video = 32\n",
    "mtcnn = MTCNN(margin=20, select_largest=False, factor=0.5, device=device, post_process=True) # post_process=False if want human readable image\n",
    "img_size = 255 # 256 224 255\n",
    "mean = (0.485, 0.456, 0.406)\n",
    "std = (0.229, 0.224, 0.225)\n",
    "class ImageTransform:\n",
    "    def __init__(self, size, mean, std):\n",
    "        self.data_transform = transforms.Compose([\n",
    "                transforms.Resize((size, size), interpolation=Image.BILINEAR),\n",
    "                transforms.ToTensor(),\n",
    "                transforms.Normalize(mean, std)\n",
    "            ])\n",
    "\n",
    "    def __call__(self, img):\n",
    "        return self.data_transform(img)\n",
    "transformer = ImageTransform(img_size, mean, std)"
   ]
  },
  {
   "cell_type": "code",
   "execution_count": 4,
   "metadata": {},
   "outputs": [],
   "source": [
    "class EarlyStopper:\n",
    "    def __init__(self, patience=5, verbose=True):\n",
    "        self.patience = patience\n",
    "        self.counter = 0\n",
    "        self.best_score = float('inf')  # Initialize to positive infinity\n",
    "        self.verbose = verbose\n",
    "\n",
    "    def early_stop(self, val_loss, model):\n",
    "        if val_loss < self.best_score:\n",
    "            self.best_score = val_loss  # Update best validation loss\n",
    "            self.counter = 0  # Reset patience counter\n",
    "            torch.save(model.state_dict(), 'best_model.pth')  # Save the best model\n",
    "        else:\n",
    "            self.counter += 1  # Increment patience counter\n",
    "           \n",
    "        if self.counter >= self.patience:\n",
    "            if self.verbose:\n",
    "                print(\"Early stopping...\")\n",
    "            return True\n",
    "        return False"
   ]
  },
  {
   "cell_type": "code",
   "execution_count": 5,
   "metadata": {},
   "outputs": [
    {
     "name": "stdout",
     "output_type": "stream",
     "text": [
      "Loaded pretrained weights for efficientnet-b0\n"
     ]
    }
   ],
   "source": [
    "model = EfficientNet.from_pretrained('efficientnet-b0', num_classes=1)"
   ]
  },
  {
   "cell_type": "code",
   "execution_count": 6,
   "metadata": {},
   "outputs": [],
   "source": [
    "train_dataset = ImageFolder(root=os.path.join(CROPS_FOLDER, 'train'), transform=transformer) \n",
    "train_loader = DataLoader(train_dataset, shuffle=True, batch_size=64)\n",
    "val_dataset = ImageFolder(root=os.path.join(CROPS_FOLDER, 'val'), transform=transformer) \n",
    "val_loader = DataLoader(val_dataset, shuffle=True, batch_size=64)"
   ]
  },
  {
   "cell_type": "code",
   "execution_count": 10,
   "metadata": {},
   "outputs": [],
   "source": [
    "# AUC ROC curve\n",
    "# classification report\n",
    "# precision recall F1 score\n",
    "# https://scikit-learn.org/1.0/modules/generated/sklearn.metrics.plot_roc_curve.html\n",
    "# train_loader = DataLoader(train_data, batch_size=BATCH_SIZE, shuffle=True, num_workers=48, pin_memory=True)\n",
    "optimizer = torch.optim.Adam(model.parameters(), lr=0.001)\n",
    "loss_fn = nn.BCEWithLogitsLoss()\n",
    "\n",
    "train_loss_history = []\n",
    "train_accuracy_history = []\n",
    "val_loss_history = []\n",
    "val_accuracy_history = []\n"
   ]
  },
  {
   "cell_type": "code",
   "execution_count": 8,
   "metadata": {},
   "outputs": [
    {
     "name": "stdout",
     "output_type": "stream",
     "text": [
      "Epoch [0/100], Train Loss: 0.00111, Train Accuracy: 0.97066, Val Loss: 0.00184, Val Accuracy: 0.96125\n",
      "Epoch [1/100], Train Loss: 0.00052, Train Accuracy: 0.98525, Val Loss: 0.00440, Val Accuracy: 0.90770\n",
      "Epoch [2/100], Train Loss: 0.00040, Train Accuracy: 0.98733, Val Loss: 0.00143, Val Accuracy: 0.97368\n",
      "Epoch [3/100], Train Loss: 0.00037, Train Accuracy: 0.98898, Val Loss: 0.00139, Val Accuracy: 0.97560\n",
      "Epoch [4/100], Train Loss: 0.00036, Train Accuracy: 0.98878, Val Loss: 0.00147, Val Accuracy: 0.96554\n",
      "Epoch [5/100], Train Loss: 0.00033, Train Accuracy: 0.98936, Val Loss: 0.00189, Val Accuracy: 0.96939\n",
      "Epoch [6/100], Train Loss: 0.00033, Train Accuracy: 0.98983, Val Loss: 0.00223, Val Accuracy: 0.97447\n",
      "Epoch [7/100], Train Loss: 0.00029, Train Accuracy: 0.99137, Val Loss: 0.00151, Val Accuracy: 0.97436\n",
      "Early stopping...\n"
     ]
    }
   ],
   "source": [
    "epochs = 100\n",
    "model = model.to(device)\n",
    "earlystopper = EarlyStopper()\n",
    "# mtcnn unable to detect gan/diffusion faces\n",
    "#data = data.to(device)  # Move data to GPU if available\n",
    "# half precision\n",
    "# A6000 at desktop\\\n",
    "# clustered learning\n",
    "for epoch in range(epochs): \n",
    "    running_loss = 0\n",
    "    correct = 0\n",
    "    total = 0\n",
    "    model.train()\n",
    "    for data, labels in train_loader:\n",
    "        data = data.squeeze(0)\n",
    "        labels = labels.squeeze(0)\n",
    "        labels = labels.to(device).float()\n",
    "        data = data.to(device)\n",
    "        optimizer.zero_grad()  # clear previous gradients\n",
    "\n",
    "        #data = data.to(device).float()\n",
    "        outputs = model(data).squeeze()\n",
    "        losses = loss_fn(outputs, labels)\n",
    "        running_loss += losses.item()  # accumulate loss\n",
    "        \n",
    "        losses.backward()\n",
    "        optimizer.step()\n",
    "        predicted   = (torch.sigmoid(outputs) >= 0.5).float() # calculate if label is 0 or 1\n",
    "        correct += (predicted == labels).sum().item() \n",
    "        total += labels.size(0)\n",
    "\n",
    "    average_train_loss = running_loss / total\n",
    "    average_train_accuracy = correct / total\n",
    "    train_loss_history.append(average_train_loss)\n",
    "    train_accuracy_history.append(average_train_accuracy)\n",
    "\n",
    "    model.eval()\n",
    "    running_loss = 0\n",
    "    correct = 0\n",
    "    total = 0 \n",
    "    for data, labels in val_loader:\n",
    "        data = data.squeeze(0)\n",
    "        labels = labels.squeeze(0)\n",
    "        labels = labels.to(device).float()\n",
    "        data = data.to(device).float()\n",
    "\n",
    "        outputs = model(data).squeeze()\n",
    "        losses = loss_fn(outputs, labels)\n",
    "        running_loss += losses.item()  # accumulate loss\n",
    "        predicted = (torch.sigmoid(outputs) >= 0.5).float() # calculate if label is 0 or 1\n",
    "        correct += (predicted == labels).sum().item() \n",
    "        total += labels.size(0)\n",
    "    average_val_loss = running_loss / total\n",
    "    average_val_accuracy = correct / total\n",
    "    val_loss_history.append(average_val_loss)\n",
    "    val_accuracy_history.append(average_val_accuracy)\n",
    "\n",
    "    if earlystopper.early_stop(average_val_loss, model):\n",
    "        break \n",
    "    print(f\"Epoch [{epoch}/{epochs}], Train Loss: {average_train_loss:.5f}, Train Accuracy: {average_train_accuracy:.5f}, Val Loss: {average_val_loss:.5f}, Val Accuracy: {average_val_accuracy:.5f}\")\n",
    "\n",
    "    \n",
    "torch.save(model.state_dict(), 'model_ff.pth')"
   ]
  },
  {
   "cell_type": "code",
   "execution_count": 14,
   "metadata": {},
   "outputs": [
    {
     "name": "stdout",
     "output_type": "stream",
     "text": [
      "Loaded pretrained weights for efficientnet-b0\n"
     ]
    },
    {
     "name": "stderr",
     "output_type": "stream",
     "text": [
      "C:\\Users\\Sheryl\\AppData\\Local\\Temp\\ipykernel_26552\\1084500171.py:8: FutureWarning:\n",
      "\n",
      "You are using `torch.load` with `weights_only=False` (the current default value), which uses the default pickle module implicitly. It is possible to construct malicious pickle data which will execute arbitrary code during unpickling (See https://github.com/pytorch/pytorch/blob/main/SECURITY.md#untrusted-models for more details). In a future release, the default value for `weights_only` will be flipped to `True`. This limits the functions that could be executed during unpickling. Arbitrary objects will no longer be allowed to be loaded via this mode unless they are explicitly allowlisted by the user via `torch.serialization.add_safe_globals`. We recommend you start setting `weights_only=True` for any use case where you don't have full control of the loaded file. Please open an issue on GitHub for any issues related to this experimental feature.\n",
      "\n"
     ]
    },
    {
     "name": "stdout",
     "output_type": "stream",
     "text": [
      "AUC: 0.9920\n"
     ]
    },
    {
     "data": {
      "image/png": "[encoded data removed]",
      "text/plain": [
       "<Figure size 640x480 with 1 Axes>"
      ]
     },
     "metadata": {},
     "output_type": "display_data"
    }
   ],
   "source": [
    "test_dataset = ImageFolder(root=os.path.join(CROPS_FOLDER, 'test'), transform=transformer) \n",
    "test_loader = DataLoader(test_dataset, shuffle=True, batch_size=64)\n",
    "\n",
    "import torch\n",
    "from torch.utils.data import DataLoader\n",
    "from sklearn.metrics import RocCurveDisplay, roc_auc_score\n",
    "model = EfficientNet.from_pretrained('efficientnet-b0', num_classes=1)\n",
    "model.load_state_dict(torch.load('best_model.pth'))\n",
    "model = model.to(device)\n",
    "\n",
    "val_predictions = []\n",
    "val_labels = []\n",
    "model.eval()\n",
    "\n",
    "with torch.no_grad():\n",
    "    for data, labels in test_loader:\n",
    "        data = data.squeeze(0)\n",
    "        labels = labels.squeeze(0)\n",
    "        data = data.to(device).float()\n",
    "\n",
    "        outputs = model(data).squeeze()\n",
    "        probabilities = (torch.sigmoid(outputs)) # calculate if label is 0 or 1\n",
    "        val_predictions.extend(probabilities.cpu().numpy())\n",
    "        val_labels.extend(labels.numpy())\n",
    "# Calculate the AUC\n",
    "auc_score = roc_auc_score(val_labels, val_predictions)\n",
    "print(f'AUC: {auc_score:.4f}')\n",
    "\n",
    "# Plot ROC Curve\n",
    "RocCurveDisplay.from_predictions(val_labels, val_predictions)\n",
    "plt.title('ROC Curve - Validation Set')\n",
    "plt.show()"
   ]
  },
  {
   "cell_type": "code",
   "execution_count": 10,
   "metadata": {},
   "outputs": [],
   "source": [
    "#pretrained_weights_path = 'noisy-student-efficientnet-b4.pth' # noisy student\n",
    "#model = EfficientNet.from_name('efficientnet-b4')\n",
    "#model.load_state_dict(torch.load(pretrained_weights_path, map_location=torch.device(device)))"
   ]
  },
  {
   "cell_type": "code",
   "execution_count": null,
   "metadata": {},
   "outputs": [],
   "source": [
    "\n"
   ]
  }
 ],
 "metadata": {
  "kernelspec": {
   "display_name": "Python 3",
   "language": "python",
   "name": "python3"
  },
  "language_info": {
   "codemirror_mode": {
    "name": "ipython",
    "version": 3
   },
   "file_extension": ".py",
   "mimetype": "text/x-python",
   "name": "python",
   "nbconvert_exporter": "python",
   "pygments_lexer": "ipython3",
   "version": "3.12.6"
  }
 },
 "nbformat": 4,
 "nbformat_minor": 2
}
