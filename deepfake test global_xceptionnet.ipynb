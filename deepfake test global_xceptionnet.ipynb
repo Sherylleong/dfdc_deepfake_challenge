{
 "cells": [
  {
   "cell_type": "code",
   "execution_count": 1,
   "metadata": {},
   "outputs": [],
   "source": [
    "import os\n",
    "import numpy as np\n",
    "import pandas as pd\n",
    "import matplotlib\n",
    "import torch\n",
    "import matplotlib.pyplot as plt\n",
    "from torchvision.datasets import ImageFolder\n",
    "from PIL import Image\n",
    "from tqdm import tqdm\n",
    "from efficientnet_pytorch import EfficientNet\n",
    "\n",
    "from PIL import Image\n",
    "#from albumentations.pytorch import ToTensor \n",
    "from torch.utils.data import Dataset, random_split\n",
    "from torch.utils.data import DataLoader\n",
    "import torch\n",
    "import torch.nn as nn\n",
    "import torch.nn.functional as F\n",
    "from torch.autograd import Variable\n",
    "\n",
    "import sys\n",
    "import sklearn\n",
    "\n",
    "import cv2\n",
    "import pandas as pd\n",
    "import numpy as np\n",
    "\n",
    "from matplotlib import pyplot as plt\n",
    "from torchvision import models, transforms\n",
    "from torch.utils.data import WeightedRandomSampler\n",
    "\n",
    "import matplotlib.pyplot as plt\n",
    "\n",
    "\n",
    "\n",
    "IMG_SIZE = 224\n",
    "BATCH_SIZE = 64\n",
    "EPOCHS = 100\n",
    "\n",
    "mean = (0.485, 0.456, 0.406)\n",
    "std = (0.229, 0.224, 0.225)\n",
    "\n",
    "\n",
    "'''\n",
    "IMAGE TRANSFORMS\n",
    "'''\n",
    "class ImageTransform:\n",
    "    def __init__(self, size, mean, std):\n",
    "        self.data_transform = transforms.Compose([\n",
    "                transforms.Resize((size, size), interpolation=Image.BILINEAR),\n",
    "                transforms.ToTensor(),\n",
    "                transforms.Normalize(mean, std)\n",
    "            ])\n",
    "\n",
    "    def __call__(self, img):\n",
    "        return self.data_transform(img)\n"
   ]
  },
  {
   "cell_type": "code",
   "execution_count": 2,
   "metadata": {},
   "outputs": [],
   "source": [
    "transformer = ImageTransform(IMG_SIZE, mean, std)"
   ]
  },
  {
   "cell_type": "code",
   "execution_count": 3,
   "metadata": {},
   "outputs": [
    {
     "name": "stdout",
     "output_type": "stream",
     "text": [
      "Loaded pretrained weights for efficientnet-b0\n"
     ]
    }
   ],
   "source": [
    "device = 'cuda'\n",
    "model = EfficientNet.from_pretrained('efficientnet-b0', num_classes=1)\n",
    "model = model.to(device)\n",
    "\n",
    "# Load the model state\n",
    "deepfake_types = ['Deepfakes', 'Face2Face', 'FaceShifter', 'FaceSwap', 'NeuralTextures']"
   ]
  },
  {
   "cell_type": "code",
   "execution_count": 4,
   "metadata": {},
   "outputs": [],
   "source": [
    "def test_model(model, test_loader):\n",
    "    model.eval()  # Set model to evaluation mode\n",
    "    total_loss = 0.0\n",
    "    correct = 0\n",
    "    total = 0\n",
    "    criterion = torch.nn.BCEWithLogitsLoss()  # Binary classification loss\n",
    "\n",
    "    with torch.no_grad():\n",
    "        for inputs, labels in test_loader:\n",
    "            # Move data to the correct device\n",
    "            inputs, labels = inputs.to(device), labels.to(device)\n",
    "            \n",
    "            # Model forward pass\n",
    "            outputs = model(inputs)\n",
    "            \n",
    "            # Ensure outputs and labels have the same shape\n",
    "            outputs = outputs.view(-1)  # Flatten outputs to match labels\n",
    "            labels = labels.view(-1).float()  # Flatten labels and convert to float\n",
    "\n",
    "            # Compute loss\n",
    "            loss = criterion(outputs, labels)\n",
    "            total_loss += loss.item()\n",
    "\n",
    "            # Calculate predictions and accuracy\n",
    "            predictions = (torch.sigmoid(outputs) > 0.5).long()\n",
    "            correct += (predictions == labels.long()).sum().item()\n",
    "            total += labels.size(0)\n",
    "\n",
    "    avg_loss = total_loss / len(test_loader)\n",
    "    accuracy = correct / total\n",
    "    return avg_loss, accuracy\n"
   ]
  },
  {
   "cell_type": "code",
   "execution_count": null,
   "metadata": {},
   "outputs": [
    {
     "name": "stderr",
     "output_type": "stream",
     "text": [
      "c:\\Users\\Sheryl\\AppData\\Local\\Programs\\Python\\Python312\\Lib\\site-packages\\timm\\models\\_factory.py:117: UserWarning: Mapping deprecated model name xception to current legacy_xception.\n",
      "  model = create_fn(\n",
      "C:\\Users\\Sheryl\\AppData\\Local\\Temp\\ipykernel_7520\\75475247.py:5: FutureWarning: You are using `torch.load` with `weights_only=False` (the current default value), which uses the default pickle module implicitly. It is possible to construct malicious pickle data which will execute arbitrary code during unpickling (See https://github.com/pytorch/pytorch/blob/main/SECURITY.md#untrusted-models for more details). In a future release, the default value for `weights_only` will be flipped to `True`. This limits the functions that could be executed during unpickling. Arbitrary objects will no longer be allowed to be loaded via this mode unless they are explicitly allowlisted by the user via `torch.serialization.add_safe_globals`. We recommend you start setting `weights_only=True` for any use case where you don't have full control of the loaded file. Please open an issue on GitHub for any issues related to this experimental feature.\n",
      "  checkpoint = torch.load(f\"ff_xceptionnet_global_10epoch.pth\")\n"
     ]
    },
    {
     "name": "stdout",
     "output_type": "stream",
     "text": [
      "0.5876372725629121 0.7389151474229124\n",
      "0.6993261343666486 0.6770423643105967\n",
      "0.709497668224273 0.6720665991675104\n",
      "0.7080188323344503 0.6749466112172643\n",
      "0.7077908281156485 0.672289698605488\n"
     ]
    }
   ],
   "source": [
    "import timm\n",
    "deepfakes_test_statistics = {}\n",
    "model = timm.create_model('xception', pretrained=True, num_classes=1)\n",
    "model = model.to(device)\n",
    "checkpoint = torch.load(f\"ff_xceptionnet_global_flip.pth\")\n",
    "model.load_state_dict(checkpoint[\"model_state\"])\n",
    "for deepfake_type_dataset in deepfake_types:\n",
    "    DEEPFAKE_TYPE = deepfake_type_dataset\n",
    "    TEST_FOLDER = fr'D:\\FF\\crops\\{DEEPFAKE_TYPE}\\test' \n",
    "    test_ds = ImageFolder(root=TEST_FOLDER, transform=transformer)\n",
    "    test_loader = DataLoader(test_ds, shuffle=False, batch_size=64)\n",
    "\n",
    "    avg_loss, accuracy = test_model(model, test_loader)\n",
    "    print(avg_loss, accuracy)\n",
    "    deepfakes_test_statistics[deepfake_type_dataset] = accuracy\n",
    "        "
   ]
  },
  {
   "cell_type": "code",
   "execution_count": 6,
   "metadata": {},
   "outputs": [
    {
     "data": {
      "text/plain": [
       "{'Deepfakes': 0.7389151474229124,\n",
       " 'Face2Face': 0.6770423643105967,\n",
       " 'FaceShifter': 0.6720665991675104,\n",
       " 'FaceSwap': 0.6749466112172643,\n",
       " 'NeuralTextures': 0.672289698605488}"
      ]
     },
     "execution_count": 6,
     "metadata": {},
     "output_type": "execute_result"
    }
   ],
   "source": [
    "deepfakes_test_statistics"
   ]
  },
  {
   "cell_type": "code",
   "execution_count": 7,
   "metadata": {},
   "outputs": [
    {
     "data": {
      "image/png": "[encoded data removed]",
      "text/plain": [
       "<Figure size 800x600 with 2 Axes>"
      ]
     },
     "metadata": {},
     "output_type": "display_data"
    }
   ],
   "source": [
    "import seaborn as sns\n",
    "import matplotlib.pyplot as plt\n",
    "import numpy as np\n",
    "\n",
    "\n",
    "\n",
    "# Convert data to a numpy array for heatmap\n",
    "labels = list(deepfakes_test_statistics.keys())\n",
    "values = np.array([deepfakes_test_statistics[j] for j in deepfake_types]).reshape(1, -1)\n",
    "\n",
    "# Create the heatmap\n",
    "plt.figure(figsize=(8, 6))\n",
    "sns.heatmap(values, annot=True, cmap=\"YlGnBu\", xticklabels=deepfake_types, fmt=\".2f\")\n",
    "plt.title(\"Model Performance against Datasets\")\n",
    "plt.xlabel(\"Dataset Type\")\n",
    "plt.ylabel(\"Model Type\")\n",
    "plt.show()\n",
    "\n",
    "# knowledge distillation type learning\n",
    "# soumik benchmark on company deepfake detector - because detectors are created on model structure\n",
    "# note down amount of training data in the test set and dataset\n",
    "# different loss functions - focal loss, \n",
    "# implement federated learning averaging gradients function logic\n",
    "# foundational model for all datasets\n",
    "# check other models"
   ]
  }
 ],
 "metadata": {
  "kernelspec": {
   "display_name": "Python 3",
   "language": "python",
   "name": "python3"
  },
  "language_info": {
   "codemirror_mode": {
    "name": "ipython",
    "version": 3
   },
   "file_extension": ".py",
   "mimetype": "text/x-python",
   "name": "python",
   "nbconvert_exporter": "python",
   "pygments_lexer": "ipython3",
   "version": "3.12.6"
  }
 },
 "nbformat": 4,
 "nbformat_minor": 2
}
